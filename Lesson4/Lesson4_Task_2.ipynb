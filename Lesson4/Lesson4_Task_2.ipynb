{
  "nbformat": 4,
  "nbformat_minor": 0,
  "metadata": {
    "colab": {
      "name": "Copy of Lesson4_Task.ipynb",
      "provenance": [],
      "toc_visible": true
    },
    "kernelspec": {
      "name": "python3",
      "display_name": "Python 3"
    }
  },
  "cells": [
    {
      "cell_type": "markdown",
      "metadata": {
        "id": "IVYkLRTtKIpD",
        "colab_type": "text"
      },
      "source": [
        "### 0. Import Opencv and numpy"
      ]
    },
    {
      "cell_type": "code",
      "metadata": {
        "id": "BjHDGh6yKHHK",
        "colab_type": "code",
        "colab": {}
      },
      "source": [
        "import numpy as np\n",
        "import cv2 as cv # OpenCV library\n",
        "from google.colab.patches import cv2_imshow # colab-specific function "
      ],
      "execution_count": 0,
      "outputs": []
    },
    {
      "cell_type": "markdown",
      "metadata": {
        "id": "dy9fhDwTJTh0",
        "colab_type": "text"
      },
      "source": [
        "### 1. Load image"
      ]
    },
    {
      "cell_type": "code",
      "metadata": {
        "id": "v4DZJjfCJL7R",
        "colab_type": "code",
        "colab": {}
      },
      "source": [
        "img = cv.imread('nobg_plastic.jpg')\n",
        "acril = cv.resize(img,(600, 800))"
      ],
      "execution_count": 0,
      "outputs": []
    },
    {
      "cell_type": "markdown",
      "metadata": {
        "id": "bjLvhPopJdXi",
        "colab_type": "text"
      },
      "source": [
        "### 2. Change colors (gray)"
      ]
    },
    {
      "cell_type": "code",
      "metadata": {
        "id": "q4plONUjJv9a",
        "colab_type": "code",
        "colab": {}
      },
      "source": [
        "img_gray = cv.cvtColor(acril, cv.COLOR_BGR2GRAY)"
      ],
      "execution_count": 0,
      "outputs": []
    },
    {
      "cell_type": "markdown",
      "metadata": {
        "id": "ZEh4TAvZJjcx",
        "colab_type": "text"
      },
      "source": [
        "### 3. Smooth (if required)"
      ]
    },
    {
      "cell_type": "code",
      "metadata": {
        "id": "02XmBy3ZJwRp",
        "colab_type": "code",
        "colab": {}
      },
      "source": [
        "kernel_size = 3\n",
        "ddepth = -1\n",
        "kernel = np.ones((kernel_size, kernel_size), dtype=np.float32) \n",
        "kernel /= (kernel_size * kernel_size)\n",
        "img_gray_sm = cv.filter2D(img_gray, ddepth, kernel)"
      ],
      "execution_count": 0,
      "outputs": []
    },
    {
      "cell_type": "markdown",
      "metadata": {
        "id": "WoeDZ_2NJl5c",
        "colab_type": "text"
      },
      "source": [
        "### 4. Canny edges"
      ]
    },
    {
      "cell_type": "code",
      "metadata": {
        "id": "phy5GlrUJneh",
        "colab_type": "code",
        "colab": {}
      },
      "source": [
        "low_threshold = 40\n",
        "ratio = 3\n",
        "detected_edges = cv.Canny(img_gray_sm, low_threshold, low_threshold*ratio, kernel_size)"
      ],
      "execution_count": 0,
      "outputs": []
    },
    {
      "cell_type": "markdown",
      "metadata": {
        "id": "xrB801VsJot5",
        "colab_type": "text"
      },
      "source": [
        "### 5. Morphological operations: diliaton, erosion ..."
      ]
    },
    {
      "cell_type": "code",
      "metadata": {
        "id": "t_NOIn9LJxyx",
        "colab_type": "code",
        "outputId": "94211f8c-3c18-48ae-e9b6-20669d75669a",
        "colab": {
          "base_uri": "https://localhost:8080/",
          "height": 1000
        }
      },
      "source": [
        "mask = detected_edges != 0\n",
        "dst = acril * (mask[:, :, None].astype(acril.dtype))\n",
        "\n",
        "cv2_imshow(detected_edges)\n",
        "\n",
        "print(\"RGB image\")\n",
        "cv2_imshow(dst)"
      ],
      "execution_count": 24,
      "outputs": [
        {
          "output_type": "display_data",
          "data": {
            "image/png": "[encoded data removed]",
            "text/plain": [
              "<PIL.Image.Image image mode=L size=600x800 at 0x7EFF985656D8>"
            ]
          },
          "metadata": {
            "tags": []
          }
        },
        {
          "output_type": "stream",
          "text": [
            "RGB image\n"
          ],
          "name": "stdout"
        },
        {
          "output_type": "display_data",
          "data": {
            "image/png": "[encoded data removed]",
            "text/plain": [
              "<PIL.Image.Image image mode=RGB size=600x800 at 0x7EFF985657B8>"
            ]
          },
          "metadata": {
            "tags": []
          }
        }
      ]
    },
    {
      "cell_type": "markdown",
      "metadata": {
        "id": "H0T1QTNFJxPL",
        "colab_type": "text"
      },
      "source": [
        "### 6. Get contours"
      ]
    },
    {
      "cell_type": "code",
      "metadata": {
        "id": "6pFbcc9HJ6-A",
        "colab_type": "code",
        "colab": {}
      },
      "source": [
        "contours, hierarchy = cv.findContours(detected_edges, cv.RETR_TREE, cv.CHAIN_APPROX_SIMPLE)\n",
        "drawing = np.zeros((detected_edges.shape[0], detected_edges.shape[1], 3), dtype=np.uint8)\n",
        "for i in range(len(contours)):\n",
        "  color = (255, 255, 255)\n",
        "  cv.drawContours(drawing, contours, i, color, 1, cv.LINE_8, hierarchy, 0)\n"
      ],
      "execution_count": 0,
      "outputs": []
    },
    {
      "cell_type": "markdown",
      "metadata": {
        "id": "nQ07b53gn2Qe",
        "colab_type": "text"
      },
      "source": [
        "### 7. Export contours as SVG"
      ]
    },
    {
      "cell_type": "code",
      "metadata": {
        "id": "Mn2yM15sn1mw",
        "colab_type": "code",
        "colab": {}
      },
      "source": [
        "w = 500\n",
        "h = 500\n",
        "with open(\"allContours.svg\", \"w+\") as f:\n",
        "    f.write(f'<svg width=\"{w}\" height=\"{h}\" xmlns=\"http://www.w3.org/2000/svg\">')\n",
        "\n",
        "    for c in contours:\n",
        "        f.write('<path d=\"M')\n",
        "        for i in range(len(c)):\n",
        "            x, y = c[i][0]\n",
        "            f.write(f\"{x} {y} \")\n",
        "        f.write('\" style=\"stroke:pink\"/>')\n",
        "    f.write(\"</svg>\")"
      ],
      "execution_count": 0,
      "outputs": []
    }
  ]
}